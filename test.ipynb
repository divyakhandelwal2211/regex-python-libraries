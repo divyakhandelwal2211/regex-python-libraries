{
 "cells": [
  {
   "cell_type": "code",
   "execution_count": 3,
   "id": "1ab40bb8",
   "metadata": {},
   "outputs": [
    {
     "name": "stdout",
     "output_type": "stream",
     "text": [
      "I spent $ 239.0 and i have remaining $ 1761.0 \n"
     ]
    }
   ],
   "source": [
    "balance = 2000\n",
    "spent = 239.00\n",
    "remaining = balance-spent\n",
    "\n",
    "print(f\"I spent $ {spent} and i have remaining $ {remaining} \")"
   ]
  },
  {
   "cell_type": "code",
   "execution_count": null,
   "id": "c08bb7c3",
   "metadata": {},
   "outputs": [],
   "source": []
  }
 ],
 "metadata": {
  "kernelspec": {
   "display_name": "Python 3",
   "language": "python",
   "name": "python3"
  },
  "language_info": {
   "codemirror_mode": {
    "name": "ipython",
    "version": 3
   },
   "file_extension": ".py",
   "mimetype": "text/x-python",
   "name": "python",
   "nbconvert_exporter": "python",
   "pygments_lexer": "ipython3",
   "version": "3.13.1"
  }
 },
 "nbformat": 4,
 "nbformat_minor": 5
}
